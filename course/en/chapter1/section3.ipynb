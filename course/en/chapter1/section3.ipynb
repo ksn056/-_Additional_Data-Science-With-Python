{
  "cells": [
    {
      "cell_type": "markdown",
      "source": [
        "**Old car Price Prediction**"
      ],
      "metadata": {
        "id": "_Xta78dqNFQL"
      }
    },
    {
      "cell_type": "markdown",
      "source": [
        "**Step 1 : Data Processing**"
      ],
      "metadata": {
        "id": "I0sOUvp2NP7N"
      }
    },
    {
      "cell_type": "markdown",
      "source": [
        "\n",
        "\n",
        "1.   Load dataset\n",
        "2.   Convert data types appropriately\n",
        "3.   Handle missing values using mean\n",
        "\n",
        "\n"
      ],
      "metadata": {
        "id": "2KR0KF_INTWT"
      }
    },
    {
      "cell_type": "markdown",
      "source": [
        "**Step 2. Exploratory Data Analysis**"
      ],
      "metadata": {
        "id": "0ylqoSnINjtG"
      }
    },
    {
      "cell_type": "markdown",
      "source": [
        "\n",
        "1.   Feature relationships with price\n",
        "2.   Correlation Analysis"
      ],
      "metadata": {
        "id": "TNH7oB52NzU8"
      }
    },
    {
      "cell_type": "markdown",
      "source": [
        "**Step 3. Machine Learning Model Developement**"
      ],
      "metadata": {
        "id": "a-AZeWooOoEp"
      }
    },
    {
      "cell_type": "markdown",
      "source": [
        "**Step 4. Data Visulization**"
      ],
      "metadata": {
        "id": "TmYycRDSOaFa"
      }
    },
    {
      "cell_type": "markdown",
      "source": [
        "**Step 5. Price Prediction Filter**"
      ],
      "metadata": {
        "id": "kzBkFPXGOU2f"
      }
    },
    {
      "cell_type": "markdown",
      "source": [
        "**Final Code**"
      ],
      "metadata": {
        "id": "Lq-nM6pbPC3l"
      }
    },
    {
      "cell_type": "code",
      "source": [],
      "metadata": {
        "id": "BdqvmvyvNmKt"
      },
      "execution_count": null,
      "outputs": []
    }
  ],
  "metadata": {
    "colab": {
      "name": "Transformers, what can they do?",
      "provenance": []
    },
    "language_info": {
      "name": "python"
    },
    "kernelspec": {
      "name": "python3",
      "display_name": "Python 3"
    }
  },
  "nbformat": 4,
  "nbformat_minor": 0
}