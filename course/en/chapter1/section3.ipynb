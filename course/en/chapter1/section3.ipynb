{
  "cells": [
    {
      "cell_type": "markdown",
      "source": [
        "**Old car Price Prediction**"
      ],
      "metadata": {
        "id": "_Xta78dqNFQL"
      }
    },
    {
      "cell_type": "markdown",
      "source": [
        "**Step 1 : Data Processing**"
      ],
      "metadata": {
        "id": "I0sOUvp2NP7N"
      }
    },
    {
      "cell_type": "markdown",
      "source": [
        "\n",
        "\n",
        "1.   Load dataset\n",
        "2.   Convert data types appropriately\n",
        "3.   Handle missing values using mean\n",
        "\n",
        "\n"
      ],
      "metadata": {
        "id": "2KR0KF_INTWT"
      }
    },
    {
      "cell_type": "markdown",
      "source": [
        "**Step 2. Exploratory Data Analysis**"
      ],
      "metadata": {
        "id": "0ylqoSnINjtG"
      }
    },
    {
      "cell_type": "markdown",
      "source": [
        "\n",
        "1.   Feature relationships with price\n",
        "2.   Correlation Analysis"
      ],
      "metadata": {
        "id": "TNH7oB52NzU8"
      }
    },
    {
      "cell_type": "markdown",
      "source": [
        "**Step 3. Machine Learning Model Developement**"
      ],
      "metadata": {
        "id": "a-AZeWooOoEp"
      }
    },
    {
      "cell_type": "markdown",
      "source": [
        "**Step 4. Data Visulization**"
      ],
      "metadata": {
        "id": "TmYycRDSOaFa"
      }
    },
    {
      "cell_type": "markdown",
      "source": [
        "**Step 5. Price Prediction Filter**"
      ],
      "metadata": {
        "id": "kzBkFPXGOU2f"
      }
    },
    {
      "cell_type": "markdown",
      "source": [
        "**Final Code**"
      ],
      "metadata": {
        "id": "Lq-nM6pbPC3l"
      }
    },
    {
      "cell_type": "code",
      "source": [
        "! pip install gradio"
      ],
      "metadata": {
        "id": "1tE34LjdPz0P",
        "outputId": "597ee6eb-e8ef-446f-fb07-f6bfe9ed01e4",
        "colab": {
          "base_uri": "https://localhost:8080/"
        }
      },
      "execution_count": 3,
      "outputs": [
        {
          "output_type": "stream",
          "name": "stdout",
          "text": [
            "Collecting gradio\n",
            "  Downloading gradio-5.25.2-py3-none-any.whl.metadata (16 kB)\n",
            "Collecting aiofiles<25.0,>=22.0 (from gradio)\n",
            "  Downloading aiofiles-24.1.0-py3-none-any.whl.metadata (10 kB)\n",
            "Requirement already satisfied: anyio<5.0,>=3.0 in /usr/local/lib/python3.11/dist-packages (from gradio) (4.9.0)\n",
            "Collecting fastapi<1.0,>=0.115.2 (from gradio)\n",
            "  Downloading fastapi-0.115.12-py3-none-any.whl.metadata (27 kB)\n",
            "Collecting ffmpy (from gradio)\n",
            "  Downloading ffmpy-0.5.0-py3-none-any.whl.metadata (3.0 kB)\n",
            "Collecting gradio-client==1.8.0 (from gradio)\n",
            "  Downloading gradio_client-1.8.0-py3-none-any.whl.metadata (7.1 kB)\n",
            "Collecting groovy~=0.1 (from gradio)\n",
            "  Downloading groovy-0.1.2-py3-none-any.whl.metadata (6.1 kB)\n",
            "Requirement already satisfied: httpx>=0.24.1 in /usr/local/lib/python3.11/dist-packages (from gradio) (0.28.1)\n",
            "Requirement already satisfied: huggingface-hub>=0.28.1 in /usr/local/lib/python3.11/dist-packages (from gradio) (0.30.2)\n",
            "Requirement already satisfied: jinja2<4.0 in /usr/local/lib/python3.11/dist-packages (from gradio) (3.1.6)\n",
            "Requirement already satisfied: markupsafe<4.0,>=2.0 in /usr/local/lib/python3.11/dist-packages (from gradio) (3.0.2)\n",
            "Requirement already satisfied: numpy<3.0,>=1.0 in /usr/local/lib/python3.11/dist-packages (from gradio) (2.0.2)\n",
            "Requirement already satisfied: orjson~=3.0 in /usr/local/lib/python3.11/dist-packages (from gradio) (3.10.16)\n",
            "Requirement already satisfied: packaging in /usr/local/lib/python3.11/dist-packages (from gradio) (24.2)\n",
            "Requirement already satisfied: pandas<3.0,>=1.0 in /usr/local/lib/python3.11/dist-packages (from gradio) (2.2.2)\n",
            "Requirement already satisfied: pillow<12.0,>=8.0 in /usr/local/lib/python3.11/dist-packages (from gradio) (11.1.0)\n",
            "Requirement already satisfied: pydantic<2.12,>=2.0 in /usr/local/lib/python3.11/dist-packages (from gradio) (2.11.3)\n",
            "Collecting pydub (from gradio)\n",
            "  Downloading pydub-0.25.1-py2.py3-none-any.whl.metadata (1.4 kB)\n",
            "Collecting python-multipart>=0.0.18 (from gradio)\n",
            "  Downloading python_multipart-0.0.20-py3-none-any.whl.metadata (1.8 kB)\n",
            "Requirement already satisfied: pyyaml<7.0,>=5.0 in /usr/local/lib/python3.11/dist-packages (from gradio) (6.0.2)\n",
            "Collecting ruff>=0.9.3 (from gradio)\n",
            "  Downloading ruff-0.11.6-py3-none-manylinux_2_17_x86_64.manylinux2014_x86_64.whl.metadata (25 kB)\n",
            "Collecting safehttpx<0.2.0,>=0.1.6 (from gradio)\n",
            "  Downloading safehttpx-0.1.6-py3-none-any.whl.metadata (4.2 kB)\n",
            "Collecting semantic-version~=2.0 (from gradio)\n",
            "  Downloading semantic_version-2.10.0-py2.py3-none-any.whl.metadata (9.7 kB)\n",
            "Collecting starlette<1.0,>=0.40.0 (from gradio)\n",
            "  Downloading starlette-0.46.2-py3-none-any.whl.metadata (6.2 kB)\n",
            "Collecting tomlkit<0.14.0,>=0.12.0 (from gradio)\n",
            "  Downloading tomlkit-0.13.2-py3-none-any.whl.metadata (2.7 kB)\n",
            "Requirement already satisfied: typer<1.0,>=0.12 in /usr/local/lib/python3.11/dist-packages (from gradio) (0.15.2)\n",
            "Requirement already satisfied: typing-extensions~=4.0 in /usr/local/lib/python3.11/dist-packages (from gradio) (4.13.1)\n",
            "Collecting uvicorn>=0.14.0 (from gradio)\n",
            "  Downloading uvicorn-0.34.1-py3-none-any.whl.metadata (6.5 kB)\n",
            "Requirement already satisfied: fsspec in /usr/local/lib/python3.11/dist-packages (from gradio-client==1.8.0->gradio) (2025.3.2)\n",
            "Requirement already satisfied: websockets<16.0,>=10.0 in /usr/local/lib/python3.11/dist-packages (from gradio-client==1.8.0->gradio) (15.0.1)\n",
            "Requirement already satisfied: idna>=2.8 in /usr/local/lib/python3.11/dist-packages (from anyio<5.0,>=3.0->gradio) (3.10)\n",
            "Requirement already satisfied: sniffio>=1.1 in /usr/local/lib/python3.11/dist-packages (from anyio<5.0,>=3.0->gradio) (1.3.1)\n",
            "Requirement already satisfied: certifi in /usr/local/lib/python3.11/dist-packages (from httpx>=0.24.1->gradio) (2025.1.31)\n",
            "Requirement already satisfied: httpcore==1.* in /usr/local/lib/python3.11/dist-packages (from httpx>=0.24.1->gradio) (1.0.7)\n",
            "Requirement already satisfied: h11<0.15,>=0.13 in /usr/local/lib/python3.11/dist-packages (from httpcore==1.*->httpx>=0.24.1->gradio) (0.14.0)\n",
            "Requirement already satisfied: filelock in /usr/local/lib/python3.11/dist-packages (from huggingface-hub>=0.28.1->gradio) (3.18.0)\n",
            "Requirement already satisfied: requests in /usr/local/lib/python3.11/dist-packages (from huggingface-hub>=0.28.1->gradio) (2.32.3)\n",
            "Requirement already satisfied: tqdm>=4.42.1 in /usr/local/lib/python3.11/dist-packages (from huggingface-hub>=0.28.1->gradio) (4.67.1)\n",
            "Requirement already satisfied: python-dateutil>=2.8.2 in /usr/local/lib/python3.11/dist-packages (from pandas<3.0,>=1.0->gradio) (2.8.2)\n",
            "Requirement already satisfied: pytz>=2020.1 in /usr/local/lib/python3.11/dist-packages (from pandas<3.0,>=1.0->gradio) (2025.2)\n",
            "Requirement already satisfied: tzdata>=2022.7 in /usr/local/lib/python3.11/dist-packages (from pandas<3.0,>=1.0->gradio) (2025.2)\n",
            "Requirement already satisfied: annotated-types>=0.6.0 in /usr/local/lib/python3.11/dist-packages (from pydantic<2.12,>=2.0->gradio) (0.7.0)\n",
            "Requirement already satisfied: pydantic-core==2.33.1 in /usr/local/lib/python3.11/dist-packages (from pydantic<2.12,>=2.0->gradio) (2.33.1)\n",
            "Requirement already satisfied: typing-inspection>=0.4.0 in /usr/local/lib/python3.11/dist-packages (from pydantic<2.12,>=2.0->gradio) (0.4.0)\n",
            "Requirement already satisfied: click>=8.0.0 in /usr/local/lib/python3.11/dist-packages (from typer<1.0,>=0.12->gradio) (8.1.8)\n",
            "Requirement already satisfied: shellingham>=1.3.0 in /usr/local/lib/python3.11/dist-packages (from typer<1.0,>=0.12->gradio) (1.5.4)\n",
            "Requirement already satisfied: rich>=10.11.0 in /usr/local/lib/python3.11/dist-packages (from typer<1.0,>=0.12->gradio) (13.9.4)\n",
            "Requirement already satisfied: six>=1.5 in /usr/local/lib/python3.11/dist-packages (from python-dateutil>=2.8.2->pandas<3.0,>=1.0->gradio) (1.17.0)\n",
            "Requirement already satisfied: markdown-it-py>=2.2.0 in /usr/local/lib/python3.11/dist-packages (from rich>=10.11.0->typer<1.0,>=0.12->gradio) (3.0.0)\n",
            "Requirement already satisfied: pygments<3.0.0,>=2.13.0 in /usr/local/lib/python3.11/dist-packages (from rich>=10.11.0->typer<1.0,>=0.12->gradio) (2.18.0)\n",
            "Requirement already satisfied: charset-normalizer<4,>=2 in /usr/local/lib/python3.11/dist-packages (from requests->huggingface-hub>=0.28.1->gradio) (3.4.1)\n",
            "Requirement already satisfied: urllib3<3,>=1.21.1 in /usr/local/lib/python3.11/dist-packages (from requests->huggingface-hub>=0.28.1->gradio) (2.3.0)\n",
            "Requirement already satisfied: mdurl~=0.1 in /usr/local/lib/python3.11/dist-packages (from markdown-it-py>=2.2.0->rich>=10.11.0->typer<1.0,>=0.12->gradio) (0.1.2)\n",
            "Downloading gradio-5.25.2-py3-none-any.whl (46.9 MB)\n",
            "\u001b[2K   \u001b[90m━━━━━━━━━━━━━━━━━━━━━━━━━━━━━━━━━━━━━━━━\u001b[0m \u001b[32m46.9/46.9 MB\u001b[0m \u001b[31m15.8 MB/s\u001b[0m eta \u001b[36m0:00:00\u001b[0m\n",
            "\u001b[?25hDownloading gradio_client-1.8.0-py3-none-any.whl (322 kB)\n",
            "\u001b[2K   \u001b[90m━━━━━━━━━━━━━━━━━━━━━━━━━━━━━━━━━━━━━━━━\u001b[0m \u001b[32m322.2/322.2 kB\u001b[0m \u001b[31m18.0 MB/s\u001b[0m eta \u001b[36m0:00:00\u001b[0m\n",
            "\u001b[?25hDownloading aiofiles-24.1.0-py3-none-any.whl (15 kB)\n",
            "Downloading fastapi-0.115.12-py3-none-any.whl (95 kB)\n",
            "\u001b[2K   \u001b[90m━━━━━━━━━━━━━━━━━━━━━━━━━━━━━━━━━━━━━━━━\u001b[0m \u001b[32m95.2/95.2 kB\u001b[0m \u001b[31m5.8 MB/s\u001b[0m eta \u001b[36m0:00:00\u001b[0m\n",
            "\u001b[?25hDownloading groovy-0.1.2-py3-none-any.whl (14 kB)\n",
            "Downloading python_multipart-0.0.20-py3-none-any.whl (24 kB)\n",
            "Downloading ruff-0.11.6-py3-none-manylinux_2_17_x86_64.manylinux2014_x86_64.whl (11.5 MB)\n",
            "\u001b[2K   \u001b[90m━━━━━━━━━━━━━━━━━━━━━━━━━━━━━━━━━━━━━━━━\u001b[0m \u001b[32m11.5/11.5 MB\u001b[0m \u001b[31m73.1 MB/s\u001b[0m eta \u001b[36m0:00:00\u001b[0m\n",
            "\u001b[?25hDownloading safehttpx-0.1.6-py3-none-any.whl (8.7 kB)\n",
            "Downloading semantic_version-2.10.0-py2.py3-none-any.whl (15 kB)\n",
            "Downloading starlette-0.46.2-py3-none-any.whl (72 kB)\n",
            "\u001b[2K   \u001b[90m━━━━━━━━━━━━━━━━━━━━━━━━━━━━━━━━━━━━━━━━\u001b[0m \u001b[32m72.0/72.0 kB\u001b[0m \u001b[31m3.6 MB/s\u001b[0m eta \u001b[36m0:00:00\u001b[0m\n",
            "\u001b[?25hDownloading tomlkit-0.13.2-py3-none-any.whl (37 kB)\n",
            "Downloading uvicorn-0.34.1-py3-none-any.whl (62 kB)\n",
            "\u001b[2K   \u001b[90m━━━━━━━━━━━━━━━━━━━━━━━━━━━━━━━━━━━━━━━━\u001b[0m \u001b[32m62.4/62.4 kB\u001b[0m \u001b[31m3.9 MB/s\u001b[0m eta \u001b[36m0:00:00\u001b[0m\n",
            "\u001b[?25hDownloading ffmpy-0.5.0-py3-none-any.whl (6.0 kB)\n",
            "Downloading pydub-0.25.1-py2.py3-none-any.whl (32 kB)\n",
            "Installing collected packages: pydub, uvicorn, tomlkit, semantic-version, ruff, python-multipart, groovy, ffmpy, aiofiles, starlette, safehttpx, gradio-client, fastapi, gradio\n",
            "Successfully installed aiofiles-24.1.0 fastapi-0.115.12 ffmpy-0.5.0 gradio-5.25.2 gradio-client-1.8.0 groovy-0.1.2 pydub-0.25.1 python-multipart-0.0.20 ruff-0.11.6 safehttpx-0.1.6 semantic-version-2.10.0 starlette-0.46.2 tomlkit-0.13.2 uvicorn-0.34.1\n"
          ]
        }
      ]
    },
    {
      "cell_type": "code",
      "source": [
        "import pandas as pd\n",
        "import numpy as np\n",
        "import matplotlib.pyplot as plt\n",
        "import seaborn as sns\n",
        "from sklearn.model_selection import train_test_split\n",
        "from sklearn.linear_model import LinearRegression\n",
        "from sklearn.metrics import mean_squared_error\n",
        "import gradio as gr\n",
        "import time\n",
        "\n",
        "# Load the dataset\n",
        "path = \"https://archive.ics.uci.edu/ml/machine-learning-databases/autos/imports-85.data\"\n",
        "df = pd.read_csv(path, header=None)\n",
        "\n",
        "# Define column names\n",
        "headers = [\"symboling\", \"normalized_losses\", \"make\", \"fuel_type\", \"aspiration\",\n",
        "           \"num_doors\", \"body_style\", \"drive_wheels\", \"engine_location\",\n",
        "           \"wheel_base\", \"length\", \"width\", \"height\", \"curb_weight\",\n",
        "           \"engine_type\", \"num_cylinders\", \"engine_size\", \"fuel_system\",\n",
        "           \"bore\", \"stroke\", \"compression_ratio\", \"horsepower\", \"peak_rpm\",\n",
        "           \"city_mpg\", \"highway_mpg\", \"price\"]\n",
        "df.columns = headers\n",
        "\n",
        "# Data Cleaning\n",
        "numeric_cols = [\"normalized_losses\", \"bore\", \"stroke\", \"horsepower\", \"peak_rpm\", \"price\"]\n",
        "for col in numeric_cols:\n",
        "    df[col] = pd.to_numeric(df[col], errors='coerce')\n",
        "    df[col].fillna(df[col].mean(), inplace=True)\n",
        "\n",
        "# Feature selection\n",
        "features = [\"normalized_losses\", \"wheel_base\", \"engine_size\", \"bore\", \"stroke\",\n",
        "            \"compression_ratio\", \"horsepower\", \"peak_rpm\"]\n",
        "X = df[features]\n",
        "Y = df[\"price\"]\n",
        "\n",
        "# Train Model\n",
        "X_train, X_test, Y_train, Y_test = train_test_split(X, Y, test_size=0.25, random_state=5)\n",
        "model = LinearRegression()\n",
        "model.fit(X_train, Y_train)\n",
        "\n",
        "# Prediction function with simulated delay and message\n",
        "def predict_car_price(normalized_losses, wheel_base, engine_size, bore, stroke, compression_ratio, horsepower, peak_rpm):\n",
        "    time.sleep(1.5)\n",
        "    input_data = np.array([[normalized_losses, wheel_base, engine_size, bore, stroke, compression_ratio, horsepower, peak_rpm]])\n",
        "    prediction = model.predict(input_data)\n",
        "    return round(prediction[0], 2)\n",
        "\n",
        "# Visualization functions\n",
        "\n",
        "def price_by_make():\n",
        "    fig, ax = plt.subplots(figsize=(10, 5))\n",
        "    sns.boxplot(data=df, x='make', y='price', palette='Oranges', ax=ax)\n",
        "    ax.set_title(\"Car Make vs Price\")\n",
        "    plt.xticks(rotation=45)\n",
        "    return fig\n",
        "\n",
        "def price_by_drive():\n",
        "    fig, ax = plt.subplots(figsize=(7, 5))\n",
        "    sns.boxplot(data=df, x='drive_wheels', y='price', palette='Oranges', ax=ax)\n",
        "    ax.set_title(\"Drive Wheels vs Price\")\n",
        "    return fig\n",
        "\n",
        "def price_distribution():\n",
        "    fig, ax = plt.subplots(figsize=(8, 5))\n",
        "    sns.histplot(df['price'], bins=30, kde=True, color=\"orange\", ax=ax)\n",
        "    ax.set_title(\"Car Price Distribution\")\n",
        "    return fig\n",
        "\n",
        "def correlation_heatmap():\n",
        "    fig, ax = plt.subplots(figsize=(10, 8))\n",
        "    sns.heatmap(df[features + [\"price\"]].corr(), annot=True, cmap=\"Oranges\", ax=ax)\n",
        "    ax.set_title(\"Feature Correlation Heatmap\")\n",
        "    return fig\n",
        "\n",
        "def fueltype_price_box():\n",
        "    fig, ax = plt.subplots(figsize=(7, 5))\n",
        "    sns.boxplot(data=df, x='fuel_type', y='price', palette='Oranges', ax=ax)\n",
        "    ax.set_title(\"Fuel Type vs Price\")\n",
        "    return fig\n",
        "\n",
        "def make_average_price():\n",
        "    avg_price = df.groupby(\"make\")[\"price\"].mean().sort_values(ascending=False).head(10)\n",
        "    fig, ax = plt.subplots(figsize=(9, 5))\n",
        "    sns.barplot(x=avg_price.values, y=avg_price.index, palette=\"Oranges\", ax=ax)\n",
        "    ax.set_title(\"Top 10 Car Makes by Average Price\")\n",
        "    return fig\n",
        "\n",
        "def horsepower_vs_price():\n",
        "    fig, ax = plt.subplots(figsize=(8, 5))\n",
        "    sns.scatterplot(data=df, x='horsepower', y='price', hue='fuel_type', palette='Oranges', ax=ax)\n",
        "    ax.set_title(\"Horsepower vs Price\")\n",
        "    return fig\n",
        "\n",
        "def engine_size_vs_price():\n",
        "    fig, ax = plt.subplots(figsize=(8, 5))\n",
        "    sns.scatterplot(data=df, x='engine_size', y='price', hue='make', palette='Oranges', legend=False, ax=ax)\n",
        "    ax.set_title(\"Engine Size vs Price\")\n",
        "    return fig\n",
        "\n",
        "def body_style_vs_price():\n",
        "    fig, ax = plt.subplots(figsize=(7, 5))\n",
        "    sns.boxplot(data=df, x='body_style', y='price', palette='Oranges', ax=ax)\n",
        "    ax.set_title(\"Body Style vs Price\")\n",
        "    return fig\n",
        "\n",
        "def get_visualization(chart_type):\n",
        "    if chart_type == \"Price Distribution\":\n",
        "        return price_distribution()\n",
        "    elif chart_type == \"Correlation Heatmap\":\n",
        "        return correlation_heatmap()\n",
        "    elif chart_type == \"Fuel Type vs Price\":\n",
        "        return fueltype_price_box()\n",
        "    elif chart_type == \"Top 10 Car Makes by Avg Price\":\n",
        "        return make_average_price()\n",
        "    elif chart_type == \"Horsepower vs Price\":\n",
        "        return horsepower_vs_price()\n",
        "    elif chart_type == \"Engine Size vs Price\":\n",
        "        return engine_size_vs_price()\n",
        "    elif chart_type == \"Body Style vs Price\":\n",
        "        return body_style_vs_price()\n",
        "    elif chart_type == \"Drive Type vs Price\":\n",
        "        return price_by_drive()\n",
        "    elif chart_type == \"Make vs Price\":\n",
        "        return price_by_make()\n",
        "\n",
        "# Filter function with statistics\n",
        "\n",
        "def filter_cars(min_price, max_price, fuel_type, body_style):\n",
        "    filtered = df[(df['price'] >= min_price) & (df['price'] <= max_price)]\n",
        "    if fuel_type != \"All\":\n",
        "        filtered = filtered[filtered['fuel_type'] == fuel_type]\n",
        "    if body_style != \"All\":\n",
        "        filtered = filtered[filtered['body_style'] == body_style]\n",
        "\n",
        "    stats = {\n",
        "        \"Total Cars\": len(filtered),\n",
        "        \"Petrol Cars\": len(filtered[filtered['fuel_type'] == 'gas']),\n",
        "        \"Diesel Cars\": len(filtered[filtered['fuel_type'] == 'diesel']),\n",
        "        \"Hatchbacks\": len(filtered[filtered['body_style'] == 'hatchback'])\n",
        "    }\n",
        "\n",
        "    stats_df = pd.DataFrame(list(stats.items()), columns=[\"Category\", \"Count\"])\n",
        "\n",
        "    return filtered[[\"make\", \"body_style\", \"fuel_type\", \"engine_size\", \"horsepower\", \"price\"]].sort_values(by=\"price\"), stats_df\n",
        "\n",
        "# Gradio interface with enhancements\n",
        "with gr.Blocks(theme=gr.themes.Soft(primary_hue=\"orange\", font=[\"Verdana\", \"Arial\", \"sans-serif\"])) as demo:\n",
        "    gr.Markdown(\"\"\"\n",
        "    <div style='text-align:center;'>\n",
        "        <img src='https://cdn-icons-png.flaticon.com/512/743/743008.png' width='80'/>\n",
        "        <h1 style='color:#FF7F00; font-family:Verdana;'>🚗 Car Price Prediction Dashboard</h1>\n",
        "        <p style='font-size:16px;'>✨ Predict car prices, explore features, and visualize insights ✨</p>\n",
        "    </div>\n",
        "    \"\"\")\n",
        "\n",
        "    with gr.Tab(\"🔮 Predict Car Price\"):\n",
        "        with gr.Accordion(\"Enter Car Specifications\", open=True):\n",
        "            with gr.Row():\n",
        "                nl = gr.Number(label=\"Normalized Losses\", value=100)\n",
        "                wb = gr.Number(label=\"Wheel Base\", value=95)\n",
        "                es = gr.Number(label=\"Engine Size\", value=130)\n",
        "                bore = gr.Number(label=\"Bore\", value=3.2)\n",
        "                stroke = gr.Number(label=\"Stroke\", value=3.0)\n",
        "            with gr.Row():\n",
        "                cr = gr.Number(label=\"Compression Ratio\", value=9.0)\n",
        "                hp = gr.Number(label=\"Horsepower\", value=120)\n",
        "                rpm = gr.Number(label=\"Peak RPM\", value=5200)\n",
        "\n",
        "        predict_btn = gr.Button(\"🔍 Predict Now\", variant=\"primary\")\n",
        "        price_output = gr.Number(label=\"Predicted Price (USD)\", interactive=False)\n",
        "        predict_btn.click(fn=predict_car_price, inputs=[nl, wb, es, bore, stroke, cr, hp, rpm], outputs=price_output)\n",
        "\n",
        "    with gr.Tab(\"📊 Visual Insights\"):\n",
        "        chart_selector = gr.Dropdown(\n",
        "            choices=[\n",
        "                \"Price Distribution\",\n",
        "                \"Correlation Heatmap\",\n",
        "                \"Fuel Type vs Price\",\n",
        "                \"Top 10 Car Makes by Avg Price\",\n",
        "                \"Horsepower vs Price\",\n",
        "                \"Engine Size vs Price\",\n",
        "                \"Body Style vs Price\",\n",
        "                \"Drive Type vs Price\",\n",
        "                \"Make vs Price\"\n",
        "            ],\n",
        "            label=\"Select a Chart\",\n",
        "            value=\"Price Distribution\"\n",
        "        )\n",
        "        chart_output = gr.Plot()\n",
        "        chart_selector.change(fn=get_visualization, inputs=chart_selector, outputs=chart_output)\n",
        "\n",
        "    with gr.Tab(\"🎯 Filter Cars\"):\n",
        "        gr.Markdown(\"<h3 style='color:#FF7F00;'>Filter Cars by Attributes</h3>\")\n",
        "        min_p = gr.Number(label=\"Minimum Price ($)\", value=5000)\n",
        "        max_p = gr.Number(label=\"Maximum Price ($)\", value=20000)\n",
        "        fuel_filter = gr.Dropdown(choices=[\"All\"] + sorted(df['fuel_type'].dropna().unique()), label=\"Fuel Type\", value=\"All\")\n",
        "        body_filter = gr.Dropdown(choices=[\"All\"] + sorted(df['body_style'].dropna().unique()), label=\"Body Style\", value=\"All\")\n",
        "        filter_btn = gr.Button(\"Filter Now\")\n",
        "        filter_table = gr.Dataframe()\n",
        "        stats_table = gr.Dataframe(label=\"Filter Statistics\")\n",
        "        filter_btn.click(fn=filter_cars, inputs=[min_p, max_p, fuel_filter, body_filter], outputs=[filter_table, stats_table])\n",
        "\n",
        "# Launch\n",
        "if __name__ == \"__main__\":\n",
        "    demo.launch()"
      ],
      "metadata": {
        "colab": {
          "base_uri": "https://localhost:8080/",
          "height": 767
        },
        "id": "BdqvmvyvNmKt",
        "outputId": "122d41bf-ffaf-493b-e29b-44323e74c5d1"
      },
      "execution_count": 5,
      "outputs": [
        {
          "output_type": "stream",
          "name": "stderr",
          "text": [
            "<ipython-input-5-c9d28c236726>:28: FutureWarning: A value is trying to be set on a copy of a DataFrame or Series through chained assignment using an inplace method.\n",
            "The behavior will change in pandas 3.0. This inplace method will never work because the intermediate object on which we are setting values always behaves as a copy.\n",
            "\n",
            "For example, when doing 'df[col].method(value, inplace=True)', try using 'df.method({col: value}, inplace=True)' or df[col] = df[col].method(value) instead, to perform the operation inplace on the original object.\n",
            "\n",
            "\n",
            "  df[col].fillna(df[col].mean(), inplace=True)\n"
          ]
        },
        {
          "output_type": "stream",
          "name": "stdout",
          "text": [
            "It looks like you are running Gradio on a hosted a Jupyter notebook. For the Gradio app to work, sharing must be enabled. Automatically setting `share=True` (you can turn this off by setting `share=False` in `launch()` explicitly).\n",
            "\n",
            "Colab notebook detected. To show errors in colab notebook, set debug=True in launch()\n",
            "* Running on public URL: https://144e421815bce5abb3.gradio.live\n",
            "\n",
            "This share link expires in 1 week. For free permanent hosting and GPU upgrades, run `gradio deploy` from the terminal in the working directory to deploy to Hugging Face Spaces (https://huggingface.co/spaces)\n"
          ]
        },
        {
          "output_type": "display_data",
          "data": {
            "text/plain": [
              "<IPython.core.display.HTML object>"
            ],
            "text/html": [
              "<div><iframe src=\"https://144e421815bce5abb3.gradio.live\" width=\"100%\" height=\"500\" allow=\"autoplay; camera; microphone; clipboard-read; clipboard-write;\" frameborder=\"0\" allowfullscreen></iframe></div>"
            ]
          },
          "metadata": {}
        }
      ]
    },
    {
      "cell_type": "code",
      "source": [],
      "metadata": {
        "id": "Bx1l8KRzPq-1"
      },
      "execution_count": null,
      "outputs": []
    }
  ],
  "metadata": {
    "colab": {
      "name": "Transformers, what can they do?",
      "provenance": []
    },
    "language_info": {
      "name": "python"
    },
    "kernelspec": {
      "name": "python3",
      "display_name": "Python 3"
    }
  },
  "nbformat": 4,
  "nbformat_minor": 0
}